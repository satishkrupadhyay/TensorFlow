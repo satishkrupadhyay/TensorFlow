{
 "cells": [
  {
   "cell_type": "markdown",
   "metadata": {},
   "source": [
    "# Tensor Flow with Contrib.Learn"
   ]
  },
  {
   "cell_type": "code",
   "execution_count": 48,
   "metadata": {},
   "outputs": [
    {
     "name": "stdout",
     "output_type": "stream",
     "text": [
      "WARNING:tensorflow:float64 is not supported by many models, consider casting to float32.\n",
      "INFO:tensorflow:Using default config.\n",
      "WARNING:tensorflow:Using temporary folder as model directory: C:\\Users\\ME\\AppData\\Local\\Temp\\tmpcvh79qnt\n",
      "INFO:tensorflow:Using config: {'_task_type': None, '_task_id': 0, '_cluster_spec': <tensorflow.python.training.server_lib.ClusterSpec object at 0x000002693EB236A0>, '_master': '', '_num_ps_replicas': 0, '_num_worker_replicas': 0, '_environment': 'local', '_is_chief': True, '_evaluation_master': '', '_train_distribute': None, '_tf_config': gpu_options {\n",
      "  per_process_gpu_memory_fraction: 1\n",
      "}\n",
      ", '_tf_random_seed': None, '_save_summary_steps': 100, '_save_checkpoints_secs': 600, '_log_step_count_steps': 100, '_session_config': None, '_save_checkpoints_steps': None, '_keep_checkpoint_max': 5, '_keep_checkpoint_every_n_hours': 10000, '_model_dir': 'C:\\\\Users\\\\ME\\\\AppData\\\\Local\\\\Temp\\\\tmpcvh79qnt'}\n",
      "WARNING:tensorflow:float64 is not supported by many models, consider casting to float32.\n",
      "INFO:tensorflow:Create CheckpointSaverHook.\n",
      "INFO:tensorflow:Graph was finalized.\n",
      "INFO:tensorflow:Running local_init_op.\n",
      "INFO:tensorflow:Done running local_init_op.\n",
      "INFO:tensorflow:Saving checkpoints for 1 into C:\\Users\\ME\\AppData\\Local\\Temp\\tmpcvh79qnt\\model.ckpt.\n",
      "INFO:tensorflow:loss = 4.974682, step = 1\n",
      "INFO:tensorflow:global_step/sec: 560.331\n",
      "INFO:tensorflow:loss = 0.56947374, step = 101 (0.184 sec)\n",
      "INFO:tensorflow:global_step/sec: 703.708\n",
      "INFO:tensorflow:loss = 0.45666188, step = 201 (0.138 sec)\n",
      "INFO:tensorflow:Saving checkpoints for 300 into C:\\Users\\ME\\AppData\\Local\\Temp\\tmpcvh79qnt\\model.ckpt.\n",
      "INFO:tensorflow:Loss for final step: 0.22256078.\n",
      "WARNING:tensorflow:float64 is not supported by many models, consider casting to float32.\n",
      "INFO:tensorflow:Graph was finalized.\n",
      "INFO:tensorflow:Restoring parameters from C:\\Users\\ME\\AppData\\Local\\Temp\\tmpcvh79qnt\\model.ckpt-300\n",
      "INFO:tensorflow:Running local_init_op.\n",
      "INFO:tensorflow:Done running local_init_op.\n",
      "Accuracy: 0.973333\n",
      "             precision    recall  f1-score   support\n",
      "\n",
      "          0       1.00      1.00      1.00        50\n",
      "          1       0.96      0.96      0.96        50\n",
      "          2       0.96      0.96      0.96        50\n",
      "\n",
      "avg / total       0.97      0.97      0.97       150\n",
      "\n"
     ]
    }
   ],
   "source": [
    "import tensorflow as tf\n",
    "import tensorflow.contrib.learn as skflow\n",
    "from sklearn import datasets, metrics\n",
    "from sklearn.metrics import classification_report,confusion_matrix\n",
    "\n",
    "iris = datasets.load_iris()\n",
    "\n",
    "feature_columns = skflow.infer_real_valued_columns_from_input(iris.data)\n",
    "\n",
    "classifier = skflow.DNNClassifier(feature_columns=feature_columns,hidden_units=[10, 20, 10], n_classes=3)\n",
    "\n",
    "classifier.fit(x=iris.data, y=iris.target, steps=300,batch_size=32)\n",
    "\n",
    "predictions = list(classifier.predict(iris.data, as_iterable=True))\n",
    "score = metrics.accuracy_score(iris.target, predictions)\n",
    "\n",
    "print (\"Accuracy: %f\" % score)\n",
    "\n",
    "print(classification_report(iris.target,predictions))"
   ]
  }
 ],
 "metadata": {
  "kernelspec": {
   "display_name": "Python 3",
   "language": "python",
   "name": "python3"
  },
  "language_info": {
   "codemirror_mode": {
    "name": "ipython",
    "version": 3
   },
   "file_extension": ".py",
   "mimetype": "text/x-python",
   "name": "python",
   "nbconvert_exporter": "python",
   "pygments_lexer": "ipython3",
   "version": "3.6.5"
  }
 },
 "nbformat": 4,
 "nbformat_minor": 2
}
